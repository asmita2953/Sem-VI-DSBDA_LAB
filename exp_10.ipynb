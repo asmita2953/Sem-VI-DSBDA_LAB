{
 "cells": [
  {
   "cell_type": "raw",
   "id": "3c750587-18b3-493c-ad37-5e099e9a7f7b",
   "metadata": {},
   "source": [
    "Extract Sample document and apply following document preprocessing methods: Tokenization, POS Tagging, stop words removal, Stemming and Lemmatization."
   ]
  },
  {
   "cell_type": "code",
   "execution_count": 4,
   "id": "b03638a8-66c5-4bd7-a797-7c1aef1c81c7",
   "metadata": {},
   "outputs": [
    {
     "name": "stdout",
     "output_type": "stream",
     "text": [
      "Requirement already satisfied: nltk in /home/asmita/anaconda3/lib/python3.10/site-packages (3.7)\n",
      "Requirement already satisfied: regex>=2021.8.3 in /home/asmita/anaconda3/lib/python3.10/site-packages (from nltk) (2022.7.9)\n",
      "Requirement already satisfied: click in /home/asmita/anaconda3/lib/python3.10/site-packages (from nltk) (8.0.4)\n",
      "Requirement already satisfied: joblib in /home/asmita/anaconda3/lib/python3.10/site-packages (from nltk) (1.1.1)\n",
      "Requirement already satisfied: tqdm in /home/asmita/anaconda3/lib/python3.10/site-packages (from nltk) (4.64.1)\n",
      "Note: you may need to restart the kernel to use updated packages.\n"
     ]
    }
   ],
   "source": [
    "pip install nltk"
   ]
  },
  {
   "cell_type": "code",
   "execution_count": 5,
   "id": "5556c612-3ad8-405c-ba35-5d01781f50d5",
   "metadata": {},
   "outputs": [
    {
     "ename": "NameError",
     "evalue": "name 'nltk' is not defined",
     "output_type": "error",
     "traceback": [
      "\u001b[0;31m---------------------------------------------------------------------------\u001b[0m",
      "\u001b[0;31mNameError\u001b[0m                                 Traceback (most recent call last)",
      "Cell \u001b[0;32mIn[5], line 1\u001b[0m\n\u001b[0;32m----> 1\u001b[0m \u001b[43mnltk\u001b[49m\u001b[38;5;241m.\u001b[39mdownload(\u001b[38;5;124m'\u001b[39m\u001b[38;5;124mpunkt\u001b[39m\u001b[38;5;124m'\u001b[39m)\n",
      "\u001b[0;31mNameError\u001b[0m: name 'nltk' is not defined"
     ]
    }
   ],
   "source": [
    "nltk.download('punkt')"
   ]
  },
  {
   "cell_type": "code",
   "execution_count": null,
   "id": "3401cc43-bed7-4386-831c-67a296c74137",
   "metadata": {},
   "outputs": [],
   "source": [
    "nltk.download('averaged_perceptron_tagger')\n",
    "nltk.download('stopwords')\n",
    "nltk.download('wordnet')\n",
    "nltk.download('omw-1.4')"
   ]
  },
  {
   "cell_type": "code",
   "execution_count": 6,
   "id": "7905374a-dd53-4647-80a9-2132d7579ef9",
   "metadata": {},
   "outputs": [],
   "source": [
    "import nltk\n",
    "from nltk.tokenize import word_tokenize, sent_tokenize\n",
    "from nltk.corpus import stopwords\n",
    "from nltk.stem import PorterStemmer, WordNetLemmatizer\n",
    "from sklearn.feature_extraction.text import TfidfVectorizer"
   ]
  },
  {
   "cell_type": "code",
   "execution_count": 7,
   "id": "391cebb5-f5cb-4ba9-a85f-c0e3ab5ec2ac",
   "metadata": {},
   "outputs": [],
   "source": [
    "document = \"CSI-DYPIEMR is the Student Chapter of Computer Society of India in Dr.D. Y. Patil Pratishthan's Dr. D. Y. Patil Institute of Engineering,Management, and Research. Computer Society of India is a body of computer professionals in India. It was started on 6 March 1965 by a few computer professionals and has now grown to be the national body representing computer professionals. It has 72 chapters across India, 511 student branches, and 100,000 members.\""
   ]
  },
  {
   "cell_type": "code",
   "execution_count": 8,
   "id": "ed4be829-b499-4ba7-8c7f-2f2f13463569",
   "metadata": {},
   "outputs": [],
   "source": [
    "#Tokenization\n",
    "sentence = sent_tokenize(document)\n",
    "words = word_tokenize(document)"
   ]
  },
  {
   "cell_type": "code",
   "execution_count": 9,
   "id": "86d227af-2023-4421-9903-95ebb5f5f49f",
   "metadata": {},
   "outputs": [],
   "source": [
    "#Pos tagging\n",
    "pos_tags = nltk.pos_tag(words)"
   ]
  },
  {
   "cell_type": "code",
   "execution_count": 10,
   "id": "b58d23d1-29f6-4aa6-8047-54808cd0971e",
   "metadata": {},
   "outputs": [],
   "source": [
    "#Stop words removal\n",
    "stop_words = set(stopwords.words(\"english\"))\n",
    "filtered_words = [word for word in words if word.casefold() not in stop_words]"
   ]
  },
  {
   "cell_type": "code",
   "execution_count": 11,
   "id": "ad282e49-f379-4377-858c-7da78130beff",
   "metadata": {},
   "outputs": [],
   "source": [
    "#Stemming\n",
    "stemmer = PorterStemmer()\n",
    "stemmed_words = [stemmer.stem(word) for word in filtered_words]"
   ]
  },
  {
   "cell_type": "code",
   "execution_count": 12,
   "id": "cc636e18-48a2-4397-9224-827ea7022f76",
   "metadata": {},
   "outputs": [],
   "source": [
    "#Lemmatization\n",
    "lemmatizer = WordNetLemmatizer()\n",
    "lemmatized_words = [lemmatizer.lemmatize(word) for word in filtered_words]"
   ]
  },
  {
   "cell_type": "code",
   "execution_count": 14,
   "id": "4c52f28c-a6b6-4071-90eb-5ae349d03997",
   "metadata": {},
   "outputs": [
    {
     "name": "stdout",
     "output_type": "stream",
     "text": [
      "Tokenization:\n",
      "['CSI-DYPIEMR', 'is', 'the', 'Student', 'Chapter', 'of', 'Computer', 'Society', 'of', 'India', 'in', 'Dr.D', '.', 'Y.', 'Patil', 'Pratishthan', \"'s\", 'Dr.', 'D.', 'Y.', 'Patil', 'Institute', 'of', 'Engineering', ',', 'Management', ',', 'and', 'Research', '.', 'Computer', 'Society', 'of', 'India', 'is', 'a', 'body', 'of', 'computer', 'professionals', 'in', 'India', '.', 'It', 'was', 'started', 'on', '6', 'March', '1965', 'by', 'a', 'few', 'computer', 'professionals', 'and', 'has', 'now', 'grown', 'to', 'be', 'the', 'national', 'body', 'representing', 'computer', 'professionals', '.', 'It', 'has', '72', 'chapters', 'across', 'India', ',', '511', 'student', 'branches', ',', 'and', '100,000', 'members', '.']\n",
      "\n",
      "POS Tagging:\n",
      "[('CSI-DYPIEMR', 'NNP'), ('is', 'VBZ'), ('the', 'DT'), ('Student', 'NNP'), ('Chapter', 'NN'), ('of', 'IN'), ('Computer', 'NNP'), ('Society', 'NNP'), ('of', 'IN'), ('India', 'NNP'), ('in', 'IN'), ('Dr.D', 'NNP'), ('.', '.'), ('Y.', 'NNP'), ('Patil', 'NNP'), ('Pratishthan', 'NNP'), (\"'s\", 'POS'), ('Dr.', 'NNP'), ('D.', 'NNP'), ('Y.', 'NNP'), ('Patil', 'NNP'), ('Institute', 'NNP'), ('of', 'IN'), ('Engineering', 'NNP'), (',', ','), ('Management', 'NNP'), (',', ','), ('and', 'CC'), ('Research', 'NNP'), ('.', '.'), ('Computer', 'NNP'), ('Society', 'NNP'), ('of', 'IN'), ('India', 'NNP'), ('is', 'VBZ'), ('a', 'DT'), ('body', 'NN'), ('of', 'IN'), ('computer', 'NN'), ('professionals', 'NNS'), ('in', 'IN'), ('India', 'NNP'), ('.', '.'), ('It', 'PRP'), ('was', 'VBD'), ('started', 'VBN'), ('on', 'IN'), ('6', 'CD'), ('March', 'NNP'), ('1965', 'CD'), ('by', 'IN'), ('a', 'DT'), ('few', 'JJ'), ('computer', 'NN'), ('professionals', 'NNS'), ('and', 'CC'), ('has', 'VBZ'), ('now', 'RB'), ('grown', 'VBN'), ('to', 'TO'), ('be', 'VB'), ('the', 'DT'), ('national', 'JJ'), ('body', 'NN'), ('representing', 'VBG'), ('computer', 'NN'), ('professionals', 'NNS'), ('.', '.'), ('It', 'PRP'), ('has', 'VBZ'), ('72', 'CD'), ('chapters', 'NNS'), ('across', 'IN'), ('India', 'NNP'), (',', ','), ('511', 'CD'), ('student', 'NN'), ('branches', 'NNS'), (',', ','), ('and', 'CC'), ('100,000', 'CD'), ('members', 'NNS'), ('.', '.')]\n",
      "\n",
      "Stop Words Removal:\n",
      "['CSI-DYPIEMR', 'Student', 'Chapter', 'Computer', 'Society', 'India', 'Dr.D', '.', 'Y.', 'Patil', 'Pratishthan', \"'s\", 'Dr.', 'D.', 'Y.', 'Patil', 'Institute', 'Engineering', ',', 'Management', ',', 'Research', '.', 'Computer', 'Society', 'India', 'body', 'computer', 'professionals', 'India', '.', 'started', '6', 'March', '1965', 'computer', 'professionals', 'grown', 'national', 'body', 'representing', 'computer', 'professionals', '.', '72', 'chapters', 'across', 'India', ',', '511', 'student', 'branches', ',', '100,000', 'members', '.']\n",
      "\n",
      "Stemming:\n",
      "['csi-dypiemr', 'student', 'chapter', 'comput', 'societi', 'india', 'dr.d', '.', 'y.', 'patil', 'pratishthan', \"'s\", 'dr.', 'd.', 'y.', 'patil', 'institut', 'engin', ',', 'manag', ',', 'research', '.', 'comput', 'societi', 'india', 'bodi', 'comput', 'profession', 'india', '.', 'start', '6', 'march', '1965', 'comput', 'profession', 'grown', 'nation', 'bodi', 'repres', 'comput', 'profession', '.', '72', 'chapter', 'across', 'india', ',', '511', 'student', 'branch', ',', '100,000', 'member', '.']\n",
      "\n",
      "Lemmatization:\n",
      "['CSI-DYPIEMR', 'Student', 'Chapter', 'Computer', 'Society', 'India', 'Dr.D', '.', 'Y.', 'Patil', 'Pratishthan', \"'s\", 'Dr.', 'D.', 'Y.', 'Patil', 'Institute', 'Engineering', ',', 'Management', ',', 'Research', '.', 'Computer', 'Society', 'India', 'body', 'computer', 'professional', 'India', '.', 'started', '6', 'March', '1965', 'computer', 'professional', 'grown', 'national', 'body', 'representing', 'computer', 'professional', '.', '72', 'chapter', 'across', 'India', ',', '511', 'student', 'branch', ',', '100,000', 'member', '.']\n",
      "\n"
     ]
    }
   ],
   "source": [
    "print(\"Tokenization:\")\n",
    "print(words)\n",
    "print()\n",
    "print(\"POS Tagging:\")\n",
    "print(pos_tags)\n",
    "print()\n",
    "print(\"Stop Words Removal:\")\n",
    "print(filtered_words)\n",
    "print()\n",
    "print(\"Stemming:\")\n",
    "print(stemmed_words)\n",
    "print()\n",
    "print(\"Lemmatization:\")\n",
    "print(lemmatized_words)\n",
    "print()"
   ]
  }
 ],
 "metadata": {
  "kernelspec": {
   "display_name": "Python 3 (ipykernel)",
   "language": "python",
   "name": "python3"
  },
  "language_info": {
   "codemirror_mode": {
    "name": "ipython",
    "version": 3
   },
   "file_extension": ".py",
   "mimetype": "text/x-python",
   "name": "python",
   "nbconvert_exporter": "python",
   "pygments_lexer": "ipython3",
   "version": "3.10.9"
  }
 },
 "nbformat": 4,
 "nbformat_minor": 5
}
